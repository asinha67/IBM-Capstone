{
 "cells": [
  {
   "cell_type": "markdown",
   "metadata": {},
   "source": [
    "### Assignment - Segmenting and Clustering Neighborhoods in Toronto - Answer - 1"
   ]
  },
  {
   "cell_type": "code",
   "execution_count": 35,
   "metadata": {},
   "outputs": [],
   "source": [
    "#Install necessary packages\n",
    "!conda install -c anaconda lxml --yes\n",
    "!conda install -c conda-forge beautifulsoup4 --yes #Install Beautifulsoup version 4"
   ]
  },
  {
   "cell_type": "code",
   "execution_count": 36,
   "metadata": {},
   "outputs": [],
   "source": [
    "from IPython.display import display_html\n",
    "def restartkernel() :\n",
    "    display_html(\"<script>Jupyter.notebook.kernel.restart()</script>\",raw=True)"
   ]
  },
  {
   "cell_type": "code",
   "execution_count": 37,
   "metadata": {},
   "outputs": [
    {
     "data": {
      "text/html": [
       "<script>Jupyter.notebook.kernel.restart()</script>"
      ]
     },
     "metadata": {},
     "output_type": "display_data"
    },
    {
     "name": "stdout",
     "output_type": "stream",
     "text": [
      "Beautiful Soup Installed!!\n"
     ]
    }
   ],
   "source": [
    "# Restart kernel for new installations to take effect\n",
    "restartkernel()\n",
    "\n",
    "# Import necessary libraries/ packages\n",
    "import pandas as pd\n",
    "import numpy as np\n",
    "import requests\n",
    "import lxml\n",
    "from bs4 import BeautifulSoup #Import the library\n",
    "\n",
    "print('Beautiful Soup Installed!!')"
   ]
  },
  {
   "cell_type": "code",
   "execution_count": 38,
   "metadata": {},
   "outputs": [],
   "source": [
    "# Read file from the url\n",
    "html_file = requests.get(\"https://en.wikipedia.org/wiki/List_of_postal_codes_of_Canada:_M\")\n",
    "\n",
    "# Parse HTML file\n",
    "soup = BeautifulSoup(html_file.content, 'lxml')"
   ]
  },
  {
   "cell_type": "code",
   "execution_count": 39,
   "metadata": {},
   "outputs": [],
   "source": [
    "# Read Table tag as string \n",
    "tables = soup.find_all('table')\n",
    "\n",
    "# Parse data in HTML tag to a list \n",
    "df_list = pd.read_html(str(tables))\n",
    "\n",
    "# Convert list of DataFrame object to a dataframe\n",
    "df = pd.DataFrame(df_list[0])"
   ]
  },
  {
   "cell_type": "code",
   "execution_count": 40,
   "metadata": {},
   "outputs": [
    {
     "name": "stdout",
     "output_type": "stream",
     "text": [
      "(103, 3)\n"
     ]
    }
   ],
   "source": [
    "# Drop all rows where Borough is not assigned\n",
    "df.drop(df[df['Borough'] == 'Not assigned'].index, inplace=True)\n",
    "\n",
    "# Using Numpy update all neighbourhood to same as Borough if the value is \"Not Assigned\"\n",
    "df['Neighbourhood'] = np.where(df['Neighbourhood'] == 'Not assigned', df['Borough'], df['Neighbourhood'])\n",
    "\n",
    "# Reset index as some rows were deleted in earlier steps\n",
    "df.reset_index(drop=True, inplace=True)\n",
    "\n",
    "df.sort_values(by=['Postcode'], inplace=True)\n",
    "\n",
    "df = df.groupby([\"Postcode\", \"Borough\"])[\"Neighbourhood\"].agg(lambda x: ','.join(x.astype(str))).reset_index()\n",
    "print(df.shape)"
   ]
  },
  {
   "cell_type": "code",
   "execution_count": null,
   "metadata": {},
   "outputs": [],
   "source": []
  }
 ],
 "metadata": {
  "kernelspec": {
   "display_name": "Python",
   "language": "python",
   "name": "conda-env-python-py"
  },
  "language_info": {
   "codemirror_mode": {
    "name": "ipython",
    "version": 3
   },
   "file_extension": ".py",
   "mimetype": "text/x-python",
   "name": "python",
   "nbconvert_exporter": "python",
   "pygments_lexer": "ipython3",
   "version": "3.6.7"
  }
 },
 "nbformat": 4,
 "nbformat_minor": 4
}
